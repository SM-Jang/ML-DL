{
 "cells": [
  {
   "cell_type": "code",
   "execution_count": 2,
   "metadata": {},
   "outputs": [],
   "source": [
    "# Lab 10 MNIST and softmax\n",
    "import torch\n",
    "import torch.nn as nn\n",
    "import torchvision.datasets as dsets\n",
    "import torchvision.transforms as transforms\n",
    "import torch.optim as optim\n",
    "import random"
   ]
  },
  {
   "cell_type": "code",
   "execution_count": 3,
   "metadata": {},
   "outputs": [],
   "source": [
    "model1 =  nn.Conv1d(1, 1, kernel_size=3, padding=1, bias=False)\n",
    "model2 =  nn.Conv1d(1, 1, kernel_size=3, padding=1, bias=False)"
   ]
  },
  {
   "cell_type": "code",
   "execution_count": 4,
   "metadata": {},
   "outputs": [
    {
     "data": {
      "text/plain": [
       "(Parameter containing:\n",
       " tensor([[[ 0.2515, -0.1454,  0.2824]]], requires_grad=True),\n",
       " Parameter containing:\n",
       " tensor([[[ 0.3586, -0.4089,  0.1462]]], requires_grad=True))"
      ]
     },
     "execution_count": 4,
     "metadata": {},
     "output_type": "execute_result"
    }
   ],
   "source": [
    "model1.weight, model2.weight"
   ]
  },
  {
   "cell_type": "code",
   "execution_count": 5,
   "metadata": {},
   "outputs": [],
   "source": [
    "lr1 = 0.01\n",
    "lr2 = 0.02\n",
    "\n",
    "lr = [lr1, lr2]"
   ]
  },
  {
   "cell_type": "code",
   "execution_count": 9,
   "metadata": {},
   "outputs": [],
   "source": [
    "from itertools import chain\n",
    "\n",
    "# params = [model1.parameters(), model2.parameters()]\n",
    "optimizer1 = optim.Adam(model1.parameters(), lr=lr1)\n",
    "optimizer2 = optim.Adam(model2.parameters(), lr=lr2)\n",
    "mse = nn.MSELoss()\n",
    "\n",
    "\n",
    "x1 = torch.ones(444).reshape(1,1,-1)\n",
    "y = torch.ones(444)"
   ]
  },
  {
   "cell_type": "code",
   "execution_count": 10,
   "metadata": {},
   "outputs": [],
   "source": [
    "\n",
    "\n",
    "optimizer1.zero_grad()\n",
    "optimizer2.zero_grad()\n",
    "\n",
    "y_ = model1(x1)\n",
    "y_ = model2(y_).reshape(-1)\n",
    "\n",
    "loss = mse(y_, y)\n",
    "\n",
    "loss.backward()\n",
    "optimizer1.step()\n",
    "optimizer2.step()"
   ]
  },
  {
   "cell_type": "code",
   "execution_count": 11,
   "metadata": {},
   "outputs": [
    {
     "data": {
      "text/plain": [
       "(Parameter containing:\n",
       " tensor([[[ 0.2615, -0.1354,  0.2924]]], requires_grad=True),\n",
       " Parameter containing:\n",
       " tensor([[[ 0.3786, -0.3889,  0.1662]]], requires_grad=True))"
      ]
     },
     "execution_count": 11,
     "metadata": {},
     "output_type": "execute_result"
    }
   ],
   "source": [
    "model1.weight, model2.weight"
   ]
  },
  {
   "cell_type": "code",
   "execution_count": 136,
   "metadata": {},
   "outputs": [],
   "source": [
    "import matplotlib.pyplot as plt"
   ]
  },
  {
   "cell_type": "code",
   "execution_count": 154,
   "metadata": {},
   "outputs": [
    {
     "data": {
      "text/plain": [
       "<matplotlib.legend.Legend at 0x7f3ccde2a850>"
      ]
     },
     "execution_count": 154,
     "metadata": {},
     "output_type": "execute_result"
    },
    {
     "data": {
      "image/png": "[encoded data removed]",
      "text/plain": [
       "<Figure size 432x288 with 2 Axes>"
      ]
     },
     "metadata": {
      "needs_background": "light"
     },
     "output_type": "display_data"
    }
   ],
   "source": [
    "fig = plt.figure()\n",
    "fig.suptitle('2')\n",
    "ax1 = fig.add_subplot(2,1,1)\n",
    "ax1.plot(y, c='red', label='old')\n",
    "ax2 = fig.add_subplot(2,1,2)\n",
    "ax2.plot(y_.detach().numpy(),label='new')\n"
   ]
  }
 ],
 "metadata": {
  "kernelspec": {
   "display_name": "ms-tcn",
   "language": "python",
   "name": "ms-tcn"
  },
  "language_info": {
   "codemirror_mode": {
    "name": "ipython",
    "version": 3
   },
   "file_extension": ".py",
   "mimetype": "text/x-python",
   "name": "python",
   "nbconvert_exporter": "python",
   "pygments_lexer": "ipython3",
   "version": "3.7.10"
  }
 },
 "nbformat": 4,
 "nbformat_minor": 4
}
