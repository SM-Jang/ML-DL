{
 "cells": [
  {
   "cell_type": "code",
   "execution_count": 4,
   "metadata": {},
   "outputs": [
    {
     "name": "stdout",
     "output_type": "stream",
     "text": [
      "x.shape:  (150, 2) , y.shape:  (150,)\n"
     ]
    },
    {
     "data": {
      "image/png": "[encoded data removed]",
      "text/plain": [
       "<Figure size 432x288 with 1 Axes>"
      ]
     },
     "metadata": {
      "needs_background": "light"
     },
     "output_type": "display_data"
    }
   ],
   "source": [
    "from sklearn.datasets import make_blobs\n",
    "import matplotlib.pyplot as plt\n",
    "\n",
    "\n",
    "x, y = make_blobs(n_samples = 150, n_features = 2, centers = 3,\n",
    "                  cluster_std = 0.5, shuffle = True, random_state = 0)\n",
    "print(\"x.shape: \", x.shape, \", y.shape: \", y.shape)\n",
    "\n",
    "plt.scatter(x[:, 0], x[:,1], marker = \"o\", s = 50)\n",
    "plt.grid()\n",
    "plt.show()"
   ]
  },
  {
   "cell_type": "code",
   "execution_count": 7,
   "metadata": {},
   "outputs": [
    {
     "data": {
      "text/plain": [
       "(array([[2.60509732, 1.22529553],\n",
       "        [0.5323772 , 3.31338909],\n",
       "        [0.802314  , 4.38196181]]),\n",
       " array([1, 0, 0]))"
      ]
     },
     "execution_count": 7,
     "metadata": {},
     "output_type": "execute_result"
    }
   ],
   "source": [
    "x[:3], y[:3]"
   ]
  },
  {
   "cell_type": "markdown",
   "metadata": {},
   "source": [
    "- init : {'k-means++', 'random', ndarray, callable}, default='k-means++'\n",
    "-     Method for initialization:\n",
    "\n",
    "-     'k-means++' : selects initial cluster centers for k-mean clustering in a smart way to speed up convergence. See section Notes in k_init for more details.\n",
    "\n",
    "-     'random': choose `n_clusters` observations (rows) at random from data for the initial centroids.\n"
   ]
  },
  {
   "cell_type": "code",
   "execution_count": 9,
   "metadata": {},
   "outputs": [
    {
     "data": {
      "text/plain": [
       "KMeans(init='random', n_clusters=3, random_state=0)"
      ]
     },
     "execution_count": 9,
     "metadata": {},
     "output_type": "execute_result"
    }
   ],
   "source": [
    "from sklearn.cluster import KMeans\n",
    "init_centroid = \"random\" # 초기 클러스터 중심을 임의적\n",
    "\n",
    "kmodel = KMeans(n_clusters = 3, init = init_centroid, random_state = 0)\n",
    "kmodel.fit(x)"
   ]
  },
  {
   "cell_type": "code",
   "execution_count": 12,
   "metadata": {},
   "outputs": [
    {
     "data": {
      "text/plain": [
       "array([[-1.5947298 ,  2.92236966],\n",
       "       [ 0.9329651 ,  4.35420712],\n",
       "       [ 2.06521743,  0.96137409]])"
      ]
     },
     "execution_count": 12,
     "metadata": {},
     "output_type": "execute_result"
    }
   ],
   "source": [
    "centers = kmodel.cluster_centers_\n",
    "centers"
   ]
  },
  {
   "cell_type": "code",
   "execution_count": 15,
   "metadata": {},
   "outputs": [
    {
     "name": "stdout",
     "output_type": "stream",
     "text": [
      "[2.60509732 1.22529553] 2\n",
      "[0.5323772  3.31338909] 1\n",
      "[0.802314   4.38196181] 1\n",
      "[0.5285368  4.49723858] 1\n",
      "[2.61858548 0.35769791] 2\n",
      "[1.59141542 4.90497725] 1\n",
      "[1.74265969 5.03846671] 1\n",
      "[2.37533328 0.08918564] 2\n",
      "[-2.12133364  2.66447408] 0\n",
      "[1.72039618 5.25173192] 1\n",
      "[3.1368855  1.56592763] 2\n",
      "[-0.37494566  2.38787435] 0\n",
      "[-1.84562253  2.71924635] 0\n",
      "[0.72144399 4.08475018] 1\n",
      "[0.16117091 4.53517846] 1\n",
      "[-1.99912714  2.71285741] 0\n",
      "[-1.47804153  3.2093591 ] 0\n",
      "[1.8706766  0.77797407] 2\n",
      "[-1.5933443   2.76898682] 0\n",
      "[2.03562611 0.31361691] 2\n",
      "[0.64003985 4.12401075] 1\n",
      "[2.4411628  1.30941574] 2\n",
      "[1.13280393 3.87673946] 1\n",
      "[1.04829186 5.03092408] 1\n",
      "[-1.26637157  2.62998828] 0\n",
      "[2.31690585 0.81189049] 2\n",
      "[2.36230721 1.358767  ] 2\n",
      "[1.2091013  3.53566548] 1\n",
      "[-2.54224625  3.95012869] 0\n",
      "[1.4815332  0.67875364] 2\n",
      "[-1.59487886  3.48632794] 0\n",
      "[-1.82556205  2.7989214 ] 0\n",
      "[-1.13374003  2.68467271] 0\n",
      "[-1.758702  3.158623] 0\n",
      "[0.3498724  4.69253251] 1\n",
      "[1.68548602 1.66917096] 2\n",
      "[2.989047   1.35068599] 2\n",
      "[1.73734448 1.23588031] 2\n",
      "[0.65910903 4.12241674] 1\n",
      "[1.15445328 4.65707391] 1\n",
      "[-1.32738084  1.53158588] 0\n",
      "[-1.6814105   2.07988036] 0\n",
      "[0.34102758 4.78848568] 1\n",
      "[1.87827057 0.21018801] 2\n",
      "[2.13860427 1.21517938] 2\n",
      "[2.48368283 0.57215086] 2\n",
      "[-1.18113464  3.26525683] 0\n",
      "[2.11114739 3.57660449] 1\n",
      "[-1.19371247  2.68752237] 0\n",
      "[1.45131429 4.22810872] 1\n",
      "[1.83769075 1.82229552] 2\n",
      "[0.44089377 4.83101319] 1\n",
      "[1.08040757 4.79210685] 1\n",
      "[1.84845803 0.52393625] 2\n",
      "[2.3914149  1.10139458] 2\n",
      "[-1.44865074  3.03397278] 0\n",
      "[0.72086751 3.71347124] 1\n",
      "[3.01673853 1.63792106] 2\n",
      "[-1.18199493  3.56880538] 0\n",
      "[1.34081536 4.36827878] 1\n",
      "[-2.31837321  3.22307195] 0\n",
      "[-0.54894786  3.11292892] 0\n",
      "[-1.6823471   2.96658234] 0\n",
      "[-1.53541422  3.10745813] 0\n",
      "[1.06498315 4.10289686] 1\n",
      "[-0.39724954  2.89675369] 0\n",
      "[1.03972612 4.50478201] 1\n",
      "[1.62465468 1.85269614] 2\n",
      "[-0.30022483  4.63059663] 1\n",
      "[0.12313498 5.27917503] 1\n",
      "[1.54597042 3.68637442] 1\n",
      "[1.44254976 1.31984515] 2\n",
      "[2.52889351 0.82015861] 2\n",
      "[0.38970838 5.27559792] 1\n",
      "[1.5381461  1.23846092] 2\n",
      "[0.82049381 4.33187   ] 1\n",
      "[1.56565986 4.21382491] 1\n",
      "[-1.93358614  2.1846701 ] 0\n",
      "[-1.38373217  3.22230418] 0\n",
      "[0.96217896 4.51795326] 1\n",
      "[1.71810119 0.91357894] 2\n",
      "[1.65356269 0.55288877] 2\n",
      "[0.4519936  3.59377836] 1\n",
      "[1.19820169 4.47062449] 1\n",
      "[2.20438661 1.56085661] 2\n",
      "[3.24683991 1.3699034 ] 2\n",
      "[2.51569693 1.05702749] 2\n",
      "[-1.79833475  3.12590728] 0\n",
      "[-2.0495307   3.52345491] 0\n",
      "[2.36788325 0.09663483] 2\n",
      "[2.24348029 0.34796326] 2\n",
      "[0.99914934 4.2101954 ] 1\n",
      "[1.30963873 1.11735951] 2\n",
      "[0.77468161 4.91500986] 1\n",
      "[1.70798359 0.82284639] 2\n",
      "[1.91784543 3.6299078 ] 1\n",
      "[-2.00487651  2.74489137] 0\n",
      "[-2.10499523  3.30848131] 0\n",
      "[1.39731382 0.66687136] 2\n",
      "[2.02114672 1.75433502] 2\n",
      "[1.67030948 1.16728826] 2\n",
      "[2.52997792 0.94143928] 2\n",
      "[-2.18016744  3.7469476 ] 0\n",
      "[2.00604126 0.56592452] 2\n",
      "[1.50307585 0.9237462 ] 2\n",
      "[1.05374379 4.49286859] 1\n",
      "[-1.72662853  3.10291021] 0\n",
      "[1.72330962 4.2012082 ] 1\n",
      "[0.92466065 4.50908658] 1\n",
      "[0.39369516 4.75420057] 1\n",
      "[-1.31377465  3.25633628] 0\n",
      "[0.78260667 4.15263595] 1\n",
      "[1.82750127 0.90640324] 2\n",
      "[-1.2649585  2.9620933] 0\n",
      "[0.98152009 5.19672257] 1\n",
      "[-2.49504392  3.01227156] 0\n",
      "[1.00952869 4.45502328] 1\n",
      "[1.40848818 3.93270482] 1\n",
      "[-1.28003312  2.85983029] 0\n",
      "[-1.82506103  2.89159861] 0\n",
      "[0.5408715 4.0143625] 1\n",
      "[2.64928242 1.05613497] 2\n",
      "[0.5226209  4.32976003] 1\n",
      "[0.16932115 4.19741719] 1\n",
      "[1.8062513  1.86242969] 2\n",
      "[1.92126584 1.29889186] 2\n",
      "[-1.53906708  2.54886681] 0\n",
      "[1.68289011 0.48444439] 2\n",
      "[-2.29730252  2.94951326] 0\n",
      "[-1.45592743  2.75821805] 0\n",
      "[-1.38694171  2.86880707] 0\n",
      "[-1.07181456  3.07649137] 0\n",
      "[1.40883907 1.03118909] 2\n",
      "[-1.58598604  2.57779316] 0\n",
      "[-1.58217434  3.42796862] 0\n",
      "[-0.77966174  1.88288975] 0\n",
      "[0.56969694 3.44064603] 1\n",
      "[-1.8531083   2.72240557] 0\n",
      "[1.59885641 1.4561718 ] 2\n",
      "[-1.84094779  2.6773687 ] 0\n",
      "[1.35678894 4.36462484] 1\n",
      "[1.1774409  3.96138228] 1\n",
      "[ 1.73345832 -0.21403792] 2\n",
      "[2.34356293 0.79351428] 2\n",
      "[-0.95073823  3.45769156] 0\n",
      "[-2.23893447  2.67122232] 0\n",
      "[-1.87292894  3.68607079] 0\n",
      "[-1.8897027   2.22620028] 0\n",
      "[2.25327088 0.35113291] 2\n",
      "[1.55515985 0.12527811] 2\n"
     ]
    }
   ],
   "source": [
    "\n",
    "pred = kmodel.predict(x)\n",
    "for data, p in zip(x, pred):\n",
    "    print(data, p)"
   ]
  },
  {
   "cell_type": "code",
   "execution_count": 36,
   "metadata": {},
   "outputs": [
    {
     "data": {
      "image/png": "[encoded data removed]",
      "text/plain": [
       "<Figure size 432x288 with 1 Axes>"
      ]
     },
     "metadata": {
      "needs_background": "light"
     },
     "output_type": "display_data"
    }
   ],
   "source": [
    "pred = kmodel.predict(x)\n",
    "for i,  p in enumerate(pred):\n",
    "    if p == 0:\n",
    "        color = 'red'\n",
    "        plt.scatter(x[i,0], x[i,1], c=color)\n",
    "        \n",
    "    if p == 1:\n",
    "        color = 'blue'\n",
    "        plt.scatter(x[i,0], x[i,1], c=color)\n",
    "        \n",
    "    if p == 2:\n",
    "        color = 'green'\n",
    "        plt.scatter(x[i,0], x[i,1], c=color)\n",
    "        \n",
    "\n",
    "plt.scatter(centers[:,0], centers[:,1],\n",
    "            marker = \"+\", s = 200, c = \"black\", label = \"center\")\n",
    "plt.legend()\n",
    "plt.grid()\n",
    "plt.show()\n",
    "plt.close()"
   ]
  },
  {
   "cell_type": "code",
   "execution_count": null,
   "metadata": {},
   "outputs": [],
   "source": []
  }
 ],
 "metadata": {
  "kernelspec": {
   "display_name": "ms-tcn",
   "language": "python",
   "name": "ms-tcn"
  },
  "language_info": {
   "codemirror_mode": {
    "name": "ipython",
    "version": 3
   },
   "file_extension": ".py",
   "mimetype": "text/x-python",
   "name": "python",
   "nbconvert_exporter": "python",
   "pygments_lexer": "ipython3",
   "version": "3.7.10"
  }
 },
 "nbformat": 4,
 "nbformat_minor": 4
}
