{
 "cells": [
  {
   "cell_type": "code",
   "execution_count": 18,
   "metadata": {},
   "outputs": [
    {
     "data": {
      "text/plain": [
       "'/home/smsm8898/git/statistics'"
      ]
     },
     "execution_count": 18,
     "metadata": {},
     "output_type": "execute_result"
    }
   ],
   "source": [
    "import os\n",
    "os.getcwd()"
   ]
  },
  {
   "cell_type": "code",
   "execution_count": 1,
   "metadata": {},
   "outputs": [],
   "source": [
    "from sklearn.datasets import load_iris\n",
    "from sklearn.tree import DecisionTreeClassifier"
   ]
  },
  {
   "cell_type": "code",
   "execution_count": 2,
   "metadata": {},
   "outputs": [
    {
     "name": "stdout",
     "output_type": "stream",
     "text": [
      "(150, 4)\n"
     ]
    }
   ],
   "source": [
    "iris = load_iris()\n",
    "\n",
    "iris_data = iris.data\n",
    "iris_label = iris.target\n",
    "\n",
    "print(iris_data.shape)\n",
    "\n",
    "dt_clf = DecisionTreeClassifier()"
   ]
  },
  {
   "cell_type": "markdown",
   "metadata": {},
   "source": [
    "# train_test_split"
   ]
  },
  {
   "cell_type": "code",
   "execution_count": 8,
   "metadata": {},
   "outputs": [
    {
     "name": "stdout",
     "output_type": "stream",
     "text": [
      "The test accuracy is 93.33333333333333\n"
     ]
    }
   ],
   "source": [
    "from sklearn.model_selection import train_test_split\n",
    "x_train, x_test, y_train, y_test = train_test_split(iris_data, iris_label, \n",
    "                                                    test_size=0.2, random_state=11)\n",
    "\n",
    "dt_clf = DecisionTreeClassifier()\n",
    "dt_clf.fit(x_train, y_train)\n",
    "y_pred = dt_clf.predict(x_test)\n",
    "acc = (y_pred == y_test).sum()/len(y_test)*100\n",
    "print(\"The test accuracy is\", acc)"
   ]
  },
  {
   "cell_type": "markdown",
   "metadata": {},
   "source": [
    "# Corss validation"
   ]
  },
  {
   "cell_type": "code",
   "execution_count": 9,
   "metadata": {},
   "outputs": [
    {
     "name": "stdout",
     "output_type": "stream",
     "text": [
      "4-fold corss accuracy is [0.97368421 0.94736842 0.94594595 0.97297297]\n",
      "The mean accuracy is 0.9599928876244666\n"
     ]
    }
   ],
   "source": [
    "from sklearn.model_selection import cross_val_score\n",
    "\n",
    "dt_clf = DecisionTreeClassifier()\n",
    "scores = cross_val_score(dt_clf, \n",
    "                         iris_data, iris_label,\n",
    "                        scoring='accuracy', cv=4)\n",
    "print(\"4-fold corss accuracy is\", scores)\n",
    "print(\"The mean accuracy is\", scores.mean())"
   ]
  },
  {
   "cell_type": "markdown",
   "metadata": {},
   "source": [
    "# Grid Search"
   ]
  },
  {
   "cell_type": "code",
   "execution_count": 17,
   "metadata": {},
   "outputs": [
    {
     "name": "stdout",
     "output_type": "stream",
     "text": [
      "mean_fit_time\t[0.00107471 0.00098085 0.00096567 0.00100827 0.00092038 0.00089025]\n",
      "std_fit_time\t[1.37970607e-04 7.09136643e-06 2.51508687e-05 1.03182096e-04\n",
      " 2.32824284e-05 3.22673512e-05]\n",
      "mean_score_time\t[0.00061727 0.0006001  0.00058707 0.00056855 0.00054725 0.000518  ]\n",
      "std_score_time\t[2.02538887e-05 1.87730977e-06 3.08991051e-05 2.48026634e-06\n",
      " 1.51207428e-06 4.89903609e-07]\n",
      "param_max_depth\t[1 1 2 2 3 3]\n",
      "param_min_samples_split\t[2 3 2 3 2 3]\n",
      "params\t[{'max_depth': 1, 'min_samples_split': 2}, {'max_depth': 1, 'min_samples_split': 3}, {'max_depth': 2, 'min_samples_split': 2}, {'max_depth': 2, 'min_samples_split': 3}, {'max_depth': 3, 'min_samples_split': 2}, {'max_depth': 3, 'min_samples_split': 3}]\n",
      "split0_test_score\t[0.675 0.675 0.925 0.925 0.925 0.925]\n",
      "split1_test_score\t[0.675 0.675 1.    1.    1.    1.   ]\n",
      "split2_test_score\t[0.675 0.675 0.95  0.95  0.975 0.975]\n",
      "mean_test_score\t[0.675      0.675      0.95833333 0.95833333 0.96666667 0.96666667]\n",
      "std_test_score\t[1.11022302e-16 1.11022302e-16 3.11804782e-02 3.11804782e-02\n",
      " 3.11804782e-02 3.11804782e-02]\n",
      "rank_test_score\t[5 5 3 3 1 1]\n",
      "\n",
      "\n",
      "Best Parameter: {'max_depth': 3, 'min_samples_split': 2}\n",
      "Best scores 0.9666666666666667\n"
     ]
    }
   ],
   "source": [
    "from sklearn.model_selection import GridSearchCV\n",
    "\n",
    "dt_clf = DecisionTreeClassifier()\n",
    "param  = {\n",
    "    'max_depth' : [1,2,3],\n",
    "    'min_samples_split' : [2, 3]\n",
    "}\n",
    "\n",
    "grid_dt = GridSearchCV(dt_clf, param_grid=param,\n",
    "                      cv=3, refit=True)\n",
    "grid_dt.fit(x_train, y_train)\n",
    "scores = grid_dt.cv_results_\n",
    "for key, value in scores.items():\n",
    "    print(key, end='\\t')\n",
    "    print(value)\n",
    "    \n",
    "print('\\n\\nBest Parameter:', grid_dt.best_params_)\n",
    "print('Best scores', grid_dt.best_score_)"
   ]
  },
  {
   "cell_type": "code",
   "execution_count": null,
   "metadata": {},
   "outputs": [],
   "source": []
  }
 ],
 "metadata": {
  "kernelspec": {
   "display_name": "ms-tcn",
   "language": "python",
   "name": "ms-tcn"
  },
  "language_info": {
   "codemirror_mode": {
    "name": "ipython",
    "version": 3
   },
   "file_extension": ".py",
   "mimetype": "text/x-python",
   "name": "python",
   "nbconvert_exporter": "python",
   "pygments_lexer": "ipython3",
   "version": "3.7.10"
  }
 },
 "nbformat": 4,
 "nbformat_minor": 4
}
